{
 "cells": [
  {
   "cell_type": "code",
   "execution_count": 48,
   "id": "020e4c7e-0f78-4e2a-9ce7-db55d6b90d3f",
   "metadata": {},
   "outputs": [],
   "source": [
    "import pandas as pd\n",
    "import numpy as np\n",
    "import re\n",
    "import operator"
   ]
  },
  {
   "cell_type": "code",
   "execution_count": 49,
   "id": "3af709ff-566f-44fc-9356-6a533f5ab9fc",
   "metadata": {},
   "outputs": [],
   "source": [
    "worried_data_path = '../Data/Raw/worried_data.csv'"
   ]
  },
  {
   "cell_type": "code",
   "execution_count": 50,
   "id": "76390cb0-4c28-4087-9b0d-946ba40c1a6a",
   "metadata": {},
   "outputs": [],
   "source": [
    "worried_data = pd.read_csv(worried_data_path)\n",
    "worried_data.rename(columns = {'2011 [YR2011]': 2011, '2014 [YR2014]': 2014, '2017 [YR2017]': 2017, '2021 [YR2021]': 2021, '2022 [YR2022]': 2022}, inplace = True)\n",
    "# drop all rows where no country name or series code is provided\n",
    "# it will remove all data description rows generated while exporting from Findex Database\n",
    "worried_data.dropna(subset = ['Country Name', 'Series Code'], inplace = True)"
   ]
  },
  {
   "cell_type": "code",
   "execution_count": 51,
   "id": "f010a359-7591-49ca-ac9f-5319251ad204",
   "metadata": {},
   "outputs": [],
   "source": [
    "series_codes = worried_data[\"Series Code\"].unique()\n",
    "series_desc = {}\n",
    "for i in range(len(series_codes)):\n",
    "    code = series_codes[i]\n",
    "    series_name = worried_data[worried_data[\"Series Code\"] ==  code][\"Series Name\"].unique()\n",
    "    if series_name.shape[0] == 1:\n",
    "        series_desc[code] = series_name.item()\n",
    "    elif series_name.shape[0] == 0:\n",
    "        print(\"No series name for\", code)\n",
    "    elif series_name.shape[0] > 1:\n",
    "        print(\"Something went wrong\")"
   ]
  },
  {
   "cell_type": "code",
   "execution_count": 52,
   "id": "f636a18c-90f0-4ff0-9529-31a6a932d104",
   "metadata": {},
   "outputs": [],
   "source": [
    "# For the purpose of documenting the data used in the README\n",
    "with open(\"../Data/Processed/worried_desc.txt\", \"w\") as worried_data_desc:\n",
    "    worried_data_desc.write(\"\\n\".join([\" \".join([\"|\", key, \"|\", series_desc[key], \"|\"]) for key in series_desc.keys()]))"
   ]
  },
  {
   "cell_type": "code",
   "execution_count": 53,
   "id": "8e50b0df-9d8b-43b9-8d45-7fb79f03839f",
   "metadata": {},
   "outputs": [],
   "source": [
    "# The data is sorted according to the specific series, so the relevant series are grouped together for the purpose of clarity\n",
    "for key in series_desc.keys():\n",
    "    m = re.search('(.*):(.*?)([(,].*)', series_desc[key])\n",
    "    series_name = \" \".join([m.groups()[0].strip(), m.groups()[2].strip(\" ,\"), m.groups()[1].strip()])\n",
    "    series_desc[key] = series_name\n",
    "series_desc = dict(sorted(series_desc.items(), key = operator.itemgetter(1)))"
   ]
  },
  {
   "cell_type": "code",
   "execution_count": 54,
   "id": "56e4ae9c-1835-4812-bbb6-ffc90700986f",
   "metadata": {},
   "outputs": [],
   "source": [
    "# Values exist in 2021 and 2022 columns (exclusively), all values from 2011, 2014 and 2017 are Nan\n",
    "# change strings to numeric values, use NaN wherever data not available\n",
    "value_columns = [2011, 2014, 2017, 2021, 2022]\n",
    "worried_data[value_columns] = worried_data[value_columns].apply(pd.to_numeric, errors = 'coerce')\n",
    "worried_data.drop(columns = ['Country Code', 'Series Name', 2011, 2014, 2017], inplace = True)\n",
    "# store values in percentage columns\n",
    "worried_data['percentage'] = worried_data[2021].fillna(worried_data[2022])\n",
    "worried_data.drop(columns = [2021, 2022], inplace = True)"
   ]
  },
  {
   "cell_type": "code",
   "execution_count": 55,
   "id": "a78c232b-f36d-499f-9909-da1a5b99beba",
   "metadata": {},
   "outputs": [],
   "source": [
    "countries = np.array(['Afghanistan', 'Albania', 'Algeria', 'Angola', 'Argentina',\n",
    "       'Armenia', 'Australia', 'Austria', 'Azerbaijan', 'Bahrain',\n",
    "       'Bangladesh', 'Belarus', 'Belgium', 'Belize', 'Benin', 'Bhutan',\n",
    "       'Bolivia', 'Bosnia and Herzegovina', 'Botswana', 'Brazil',\n",
    "       'Bulgaria', 'Burkina Faso', 'Burundi', 'Cambodia', 'Cameroon',\n",
    "       'Canada', 'Central African Republic', 'Chad', 'Chile', 'China',\n",
    "       'Colombia', 'Comoros', 'Congo, Dem. Rep.', 'Congo, Rep.',\n",
    "       'Costa Rica', \"Cote d'Ivoire\", 'Croatia', 'Cyprus', 'Czechia',\n",
    "       'Denmark', 'Djibouti', 'Dominican Republic', 'Ecuador',\n",
    "       'Egypt, Arab Rep.', 'El Salvador', 'Estonia', 'Eswatini',\n",
    "       'Ethiopia', 'Finland', 'France', 'Gabon', 'Gambia, The', 'Georgia',\n",
    "       'Germany', 'Ghana', 'Greece', 'Guatemala', 'Guinea', 'Haiti',\n",
    "       'Honduras', 'Hong Kong SAR, China', 'Hungary', 'Iceland', 'India',\n",
    "       'Indonesia', 'Iran, Islamic Rep.', 'Iraq', 'Ireland', 'Israel',\n",
    "       'Italy', 'Jamaica', 'Japan', 'Jordan', 'Kazakhstan', 'Kenya',\n",
    "       'Korea, Rep.', 'Kosovo', 'Kuwait', 'Kyrgyz Republic', 'Lao PDR',\n",
    "       'Latvia', 'Lebanon', 'Lesotho', 'Liberia', 'Libya', 'Lithuania',\n",
    "       'Luxembourg', 'Madagascar', 'Malawi', 'Malaysia', 'Maldives',\n",
    "       'Mali', 'Malta', 'Mauritania', 'Mauritius', 'Mexico', 'Moldova',\n",
    "       'Mongolia', 'Montenegro', 'Morocco', 'Mozambique', 'Myanmar',\n",
    "       'Namibia', 'Nepal', 'Netherlands', 'New Zealand', 'Nicaragua',\n",
    "       'Niger', 'Nigeria', 'North Macedonia', 'Norway', 'Oman',\n",
    "       'Pakistan', 'Panama', 'Paraguay', 'Peru', 'Philippines', 'Poland',\n",
    "       'Portugal', 'Puerto Rico', 'Qatar', 'Romania',\n",
    "       'Russian Federation', 'Rwanda', 'Saudi Arabia', 'Senegal',\n",
    "       'Serbia', 'Sierra Leone', 'Singapore', 'Slovak Republic',\n",
    "       'Slovenia', 'Somalia', 'South Africa', 'South Sudan', 'Spain',\n",
    "       'Sri Lanka', 'Sudan', 'Sweden', 'Switzerland',\n",
    "       'Syrian Arab Republic', 'Taiwan, China', 'Tajikistan', 'Tanzania',\n",
    "       'Thailand', 'Togo', 'Trinidad and Tobago', 'Tunisia', 'Turkiye',\n",
    "       'Turkmenistan', 'Uganda', 'Ukraine', 'United Arab Emirates',\n",
    "       'United Kingdom', 'United States', 'Uruguay', 'Uzbekistan',\n",
    "       'Venezuela, RB', 'Vietnam', 'West Bank and Gaza', 'Yemen, Rep.',\n",
    "       'Zambia', 'Zimbabwe'])\n",
    "not_countries = ['Arab World', 'East Asia & Pacific',\n",
    "       'East Asia & Pacific (excluding high income)', 'Euro area',\n",
    "       'Europe & Central Asia',\n",
    "       'Europe & Central Asia (excluding high income)', 'High income',\n",
    "       'Latin America & Caribbean',\n",
    "       'Latin America & Caribbean (excluding high income)',\n",
    "       'Low & middle income', 'Low income', 'Lower middle income',\n",
    "       'Middle East & North Africa',\n",
    "       'Middle East & North Africa (excluding high income)',\n",
    "       'Middle income', 'North America', 'OECD members', 'South Asia',\n",
    "       'Sub-Saharan Africa', 'Sub-Saharan Africa (excluding high income)',\n",
    "       'Upper middle income', 'World']"
   ]
  },
  {
   "cell_type": "markdown",
   "id": "7dd0c42e-770f-42af-b945-6415ef558729",
   "metadata": {},
   "source": [
    "In the Findex database values are provided in columns corresponding to years representing the survey waves. In 2024 the data about what population is worried about is available for the last wave (years 2021 and 2022). The data is pivoted, it is indexed by the name of the country, and columns represent series. Values are concatenated from 2021 and 2022."
   ]
  },
  {
   "cell_type": "code",
   "execution_count": 56,
   "id": "87b58a16-c337-4e32-b93a-bc465ee0c625",
   "metadata": {},
   "outputs": [],
   "source": [
    "worried_data_pivoted = []\n",
    "for country in countries:\n",
    "    filtered_data = worried_data[(worried_data[\"Country Name\"] == country)].copy()\n",
    "    # ordered_filtered_data = filtered_data.set_index(\"Series Code\").reindex(series_codes)\n",
    "    worried_data_pivoted.append(filtered_data.pivot(index = 'Country Name', columns = 'Series Code', values = 'percentage'))\n",
    "\n",
    "for country in not_countries:\n",
    "#for country in ['Azerbaijan']:\n",
    "    filtered_data = worried_data[(worried_data[\"Country Name\"] == country)].copy()\n",
    "    # ordered_filtered_data = filtered_data.set_index(\"Series Code\").reindex(series_codes)\n",
    "    worried_data_pivoted.append(filtered_data.pivot(index = 'Country Name', columns = 'Series Code', values = 'percentage'))\n",
    "\n",
    "worried_data_pivoted = pd.concat(worried_data_pivoted)\n",
    "ordered_worried_data_pivoted = worried_data_pivoted[series_desc.keys()].copy()\n",
    "\n",
    "# some countries have no data\n",
    "# drop countries with all missing values\n",
    "ordered_worried_data_pivoted.dropna(axis = 'index', how = 'all', inplace = True)\n",
    "# some of the columns/series have less than 50% of data present (rural/urban series)\n",
    "# drop columns with 50% or more missing values\n",
    "ordered_worried_data_pivoted.dropna(axis = 'columns', thresh = 0.5*len(ordered_worried_data_pivoted.columns), inplace = True)"
   ]
  },
  {
   "cell_type": "code",
   "execution_count": 65,
   "id": "8834aad7-fc75-4b7b-9add-53fb1aa3f226",
   "metadata": {},
   "outputs": [
    {
     "name": "stdout",
     "output_type": "stream",
     "text": [
      "<class 'pandas.core.frame.DataFrame'>\n",
      "Index: 139 entries, Afghanistan to Zimbabwe\n",
      "Columns: 132 entries, fin44b3.d to fin44a1.d.3\n",
      "dtypes: float64(132)\n",
      "memory usage: 144.4+ KB\n"
     ]
    }
   ],
   "source": [
    "countries_data = ordered_worried_data_pivoted[ordered_worried_data_pivoted.index.isin(countries)]\n",
    "countries_data.info()"
   ]
  },
  {
   "cell_type": "markdown",
   "id": "3a870382-21fe-4aa9-accc-1f7a5ab71053",
   "metadata": {},
   "source": [
    "There are 139 countries each with 132 long feature vector."
   ]
  },
  {
   "cell_type": "code",
   "execution_count": null,
   "id": "63e1420d-d25a-45a4-bb6d-c4953eac7bef",
   "metadata": {},
   "outputs": [],
   "source": []
  }
 ],
 "metadata": {
  "kernelspec": {
   "display_name": "Python 3 (ipykernel)",
   "language": "python",
   "name": "python3"
  },
  "language_info": {
   "codemirror_mode": {
    "name": "ipython",
    "version": 3
   },
   "file_extension": ".py",
   "mimetype": "text/x-python",
   "name": "python",
   "nbconvert_exporter": "python",
   "pygments_lexer": "ipython3",
   "version": "3.13.1"
  }
 },
 "nbformat": 4,
 "nbformat_minor": 5
}
